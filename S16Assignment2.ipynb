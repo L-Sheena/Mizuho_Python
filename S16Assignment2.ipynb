{
 "cells": [
  {
   "cell_type": "code",
   "execution_count": 44,
   "metadata": {},
   "outputs": [],
   "source": [
    "import requests"
   ]
  },
  {
   "cell_type": "code",
   "execution_count": 45,
   "metadata": {},
   "outputs": [],
   "source": [
    "url=\"http://api.openweathermap.org/data/2.5/weather?q=Singapore&mode=html&&appid=ae7734ae5f37a4145f1aa455d9ea0325\""
   ]
  },
  {
   "cell_type": "code",
   "execution_count": 46,
   "metadata": {},
   "outputs": [],
   "source": [
    "respObj = requests.get(url)"
   ]
  },
  {
   "cell_type": "code",
   "execution_count": 47,
   "metadata": {},
   "outputs": [],
   "source": [
    "Data = respObj.text"
   ]
  },
  {
   "cell_type": "code",
   "execution_count": 48,
   "metadata": {},
   "outputs": [
    {
     "data": {
      "text/plain": [
       "'<!DOCTYPE html>\\n<html lang=\"en\">\\n<head>\\n  <meta charset=\"utf-8\">\\n  <meta name=\"keywords\" content=\"weather, world, openweathermap, weather, layer\" />\\n  <meta name=\"description\" content=\"A layer with current weather conditions in cities for world wide\" />\\n  <meta name=\"domain\" content=\"openweathermap.org\" />\\n  <meta http-equiv=\"pragma\" content=\"no-cache\" />\\n  <meta http-equiv=\"Expires\" content=\"-1\" />\\n</head>\\n<body>\\n  <div style=\"font-size: medium; font-weight: bold; margin-bottom: 0px;\">Singapore</div>\\n  <div style=\"float: left; width: 130px;\">\\n    <div style=\"display: block; clear: left;\">\\n      <div style=\"float: left;\" title=\"Titel\">\\n        <img height=\"45\" width=\"45\" style=\"border: medium none; width: 45px; height: 45px; background: url(&quot;http://openweathermap.org/img/w/04d.png&quot;) repeat scroll 0% 0% transparent;\" alt=\"title\" src=\"http://openweathermap.org/images/transparent.png\"/>\\n      </div>\\n      <div style=\"float: left;\">\\n        <div style=\"display: block; clear: left; font-size: medium; font-weight: bold; padding: 0pt 3pt;\" title=\"Current Temperature\">30.64°C</div>\\n        <div style=\"display: block; width: 85px; overflow: visible;\"></div>\\n      </div>\\n    </div>\\n    <div style=\"display: block; clear: left; font-size: small;\">Clouds: 75%</div>\\n    <div style=\"display: block; clear: left; color: gray; font-size: x-small;\" >Humidity: 66%</div>\\n    <div style=\"display: block; clear: left; color: gray; font-size: x-small;\" >Wind: 1 m/s</div>\\n    <div style=\"display: block; clear: left; color: gray; font-size: x-small;\" >Pressure: 1009hpa</div>\\n  </div>\\n  <div style=\"display: block; clear: left; color: gray; font-size: x-small;\">\\n    <a href=\"http://openweathermap.org/city/1880252?utm_source=openweathermap&utm_medium=widget&utm_campaign=html_old\" target=\"_blank\">More..</a>\\n  </div>\\n  <script>(function(i,s,o,g,r,a,m){i[\\'GoogleAnalyticsObject\\']=r;i[r]=i[r]||function(){\\n(i[r].q=i[r].q||[]).push(arguments)},i[r].l=1*new Date();a=s.createElement(o),\\nm=s.getElementsByTagName(o)[0];a.async=1;a.src=g;m.parentNode.insertBefore(a,m)\\n})(window,document,\\'script\\',\\'//www.google-analytics.com/analytics.js\\',\\'ga\\');ga(\\'create\\', \\'UA-31601618-9\\', \\'auto\\');ga(\\'send\\', \\'pageview\\');</script>\\n</body>\\n</html>'"
      ]
     },
     "execution_count": 48,
     "metadata": {},
     "output_type": "execute_result"
    }
   ],
   "source": [
    "Data"
   ]
  },
  {
   "cell_type": "code",
   "execution_count": 49,
   "metadata": {},
   "outputs": [
    {
     "data": {
      "text/plain": [
       "['  <div style=\"display: block; clear: left; color: gray; font-size: x-small;\">',\n",
       " '    <a href=\"http://openweathermap.org/city/1880252?utm_source=openweathermap&utm_medium=widget&utm_campaign=html_old\" target=\"_blank\">More..</a>',\n",
       " '  </div>',\n",
       " \"  <script>(function(i,s,o,g,r,a,m){i['GoogleAnalyticsObject']=r;i[r]=i[r]||function(){\",\n",
       " '(i[r].q=i[r].q||[]).push(arguments)},i[r].l=1*new Date();a=s.createElement(o),',\n",
       " 'm=s.getElementsByTagName(o)[0];a.async=1;a.src=g;m.parentNode.insertBefore(a,m)',\n",
       " \"})(window,document,'script','//www.google-analytics.com/analytics.js','ga');ga('create', 'UA-31601618-9', 'auto');ga('send', 'pageview');</script>\"]"
      ]
     },
     "execution_count": 49,
     "metadata": {},
     "output_type": "execute_result"
    }
   ],
   "source": [
    "Data.split(\"\\n\")[27:34]"
   ]
  },
  {
   "cell_type": "code",
   "execution_count": 50,
   "metadata": {},
   "outputs": [],
   "source": [
    "DataList = Data.split(\"\\n\")"
   ]
  },
  {
   "cell_type": "code",
   "execution_count": 51,
   "metadata": {},
   "outputs": [],
   "source": [
    "del DataList[27:34]"
   ]
  },
  {
   "cell_type": "code",
   "execution_count": 52,
   "metadata": {},
   "outputs": [
    {
     "data": {
      "text/plain": [
       "['<!DOCTYPE html>',\n",
       " '<html lang=\"en\">',\n",
       " '<head>',\n",
       " '  <meta charset=\"utf-8\">',\n",
       " '  <meta name=\"keywords\" content=\"weather, world, openweathermap, weather, layer\" />',\n",
       " '  <meta name=\"description\" content=\"A layer with current weather conditions in cities for world wide\" />',\n",
       " '  <meta name=\"domain\" content=\"openweathermap.org\" />',\n",
       " '  <meta http-equiv=\"pragma\" content=\"no-cache\" />',\n",
       " '  <meta http-equiv=\"Expires\" content=\"-1\" />',\n",
       " '</head>',\n",
       " '<body>',\n",
       " '  <div style=\"font-size: medium; font-weight: bold; margin-bottom: 0px;\">Singapore</div>',\n",
       " '  <div style=\"float: left; width: 130px;\">',\n",
       " '    <div style=\"display: block; clear: left;\">',\n",
       " '      <div style=\"float: left;\" title=\"Titel\">',\n",
       " '        <img height=\"45\" width=\"45\" style=\"border: medium none; width: 45px; height: 45px; background: url(&quot;http://openweathermap.org/img/w/04d.png&quot;) repeat scroll 0% 0% transparent;\" alt=\"title\" src=\"http://openweathermap.org/images/transparent.png\"/>',\n",
       " '      </div>',\n",
       " '      <div style=\"float: left;\">',\n",
       " '        <div style=\"display: block; clear: left; font-size: medium; font-weight: bold; padding: 0pt 3pt;\" title=\"Current Temperature\">30.64°C</div>',\n",
       " '        <div style=\"display: block; width: 85px; overflow: visible;\"></div>',\n",
       " '      </div>',\n",
       " '    </div>',\n",
       " '    <div style=\"display: block; clear: left; font-size: small;\">Clouds: 75%</div>',\n",
       " '    <div style=\"display: block; clear: left; color: gray; font-size: x-small;\" >Humidity: 66%</div>',\n",
       " '    <div style=\"display: block; clear: left; color: gray; font-size: x-small;\" >Wind: 1 m/s</div>',\n",
       " '    <div style=\"display: block; clear: left; color: gray; font-size: x-small;\" >Pressure: 1009hpa</div>',\n",
       " '  </div>',\n",
       " '</body>',\n",
       " '</html>']"
      ]
     },
     "execution_count": 52,
     "metadata": {},
     "output_type": "execute_result"
    }
   ],
   "source": [
    "DataList"
   ]
  },
  {
   "cell_type": "code",
   "execution_count": null,
   "metadata": {},
   "outputs": [],
   "source": []
  }
 ],
 "metadata": {
  "kernelspec": {
   "display_name": "Python 3",
   "language": "python",
   "name": "python3"
  },
  "language_info": {
   "codemirror_mode": {
    "name": "ipython",
    "version": 3
   },
   "file_extension": ".py",
   "mimetype": "text/x-python",
   "name": "python",
   "nbconvert_exporter": "python",
   "pygments_lexer": "ipython3",
   "version": "3.7.6"
  }
 },
 "nbformat": 4,
 "nbformat_minor": 4
}
