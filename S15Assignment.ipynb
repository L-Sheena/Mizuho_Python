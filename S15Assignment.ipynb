{
 "cells": [
  {
   "cell_type": "code",
   "execution_count": 3,
   "metadata": {},
   "outputs": [],
   "source": [
    "import requests"
   ]
  },
  {
   "cell_type": "code",
   "execution_count": 4,
   "metadata": {},
   "outputs": [],
   "source": [
    "url2=\"https://raw.githubusercontent.com/genomicsclass/dagdata/master/inst/extdata/msleep_ggplot2.csv\""
   ]
  },
  {
   "cell_type": "code",
   "execution_count": 5,
   "metadata": {},
   "outputs": [],
   "source": [
    "respObj2 = requests.get(url2)"
   ]
  },
  {
   "cell_type": "code",
   "execution_count": 6,
   "metadata": {},
   "outputs": [],
   "source": [
    "respData2 = respObj2.text"
   ]
  },
  {
   "cell_type": "code",
   "execution_count": 7,
   "metadata": {},
   "outputs": [
    {
     "data": {
      "text/plain": [
       "'name,genus,vore,order,conservation,sleep_total,sleep_rem,sleep_cycle,awake,brainwt,bodywt\\nCheetah,Acinonyx,carni,Carnivora,lc,12.1,NA,NA,11.9,NA,50\\nOwl monkey,Aotus,omni,Primates,NA,17,1.8,NA,7,0.0155,0.48\\nMountain beaver,Aplodontia,herbi,Rodentia,nt,14.4,2.4,NA,9.6,NA,1.35\\nGreater short-tailed shrew,Blarina,omni,Soricomorpha,lc,14.9,2.3,0.133333333,9.1,0.00029,0.019\\nCow,Bos,herbi,Artiodactyla,domesticated,4,0.7,0.666666667,20,0.423,600\\nThree-toed sloth,Bradypus,herbi,Pilosa,NA,14.4,2.2,0.766666667,9.6,NA,3.85\\nNorthern fur seal,Callorhinus,carni,Carnivora,vu,8.7,1.4,0.383333333,15.3,NA,20.49\\nVesper mouse,Calomys,NA,Rodentia,NA,7,NA,NA,17,NA,0.045\\nDog,Canis,carni,Carnivora,domesticated,10.1,2.9,0.333333333,13.9,0.07,14\\nRoe deer,Capreolus,herbi,Artiodactyla,lc,3,NA,NA,21,0.0982,14.8\\nGoat,Capri,herbi,Artiodactyla,lc,5.3,0.6,NA,18.7,0.115,33.5\\nGuinea pig,Cavis,herbi,Rodentia,domesticated,9.4,0.8,0.216666667,14.6,0.0055,0.728\\nGrivet,Cercopithecus,omni,Primates,lc,10,0.7,NA,14,NA,4.75\\nChinchilla,Chinchilla,herbi,Rodentia,domesticated,12.5,1.5,0.116666667,11.5,0.0064,0.42\\nStar-nosed mole,Condylura,omni,Soricomorpha,lc,10.3,2.2,NA,13.7,0.001,0.06\\nAfrican giant pouched rat,Cricetomys,omni,Rodentia,NA,8.3,2,NA,15.7,0.0066,1\\nLesser short-tailed shrew,Cryptotis,omni,Soricomorpha,lc,9.1,1.4,0.15,14.9,0.00014,0.005\\nLong-nosed armadillo,Dasypus,carni,Cingulata,lc,17.4,3.1,0.383333333,6.6,0.0108,3.5\\nTree hyrax,Dendrohyrax,herbi,Hyracoidea,lc,5.3,0.5,NA,18.7,0.0123,2.95\\nNorth American Opossum,Didelphis,omni,Didelphimorphia,lc,18,4.9,0.333333333,6,0.0063,1.7\\nAsian elephant,Elephas,herbi,Proboscidea,en,3.9,NA,NA,20.1,4.603,2547\\nBig brown bat,Eptesicus,insecti,Chiroptera,lc,19.7,3.9,0.116666667,4.3,3e-04,0.023\\nHorse,Equus,herbi,Perissodactyla,domesticated,2.9,0.6,1,21.1,0.655,521\\nDonkey,Equus,herbi,Perissodactyla,domesticated,3.1,0.4,NA,20.9,0.419,187\\nEuropean hedgehog,Erinaceus,omni,Erinaceomorpha,lc,10.1,3.5,0.283333333,13.9,0.0035,0.77\\nPatas monkey,Erythrocebus,omni,Primates,lc,10.9,1.1,NA,13.1,0.115,10\\nWestern american chipmunk,Eutamias,herbi,Rodentia,NA,14.9,NA,NA,9.1,NA,0.071\\nDomestic cat,Felis,carni,Carnivora,domesticated,12.5,3.2,0.416666667,11.5,0.0256,3.3\\nGalago,Galago,omni,Primates,NA,9.8,1.1,0.55,14.2,0.005,0.2\\nGiraffe,Giraffa,herbi,Artiodactyla,cd,1.9,0.4,NA,22.1,NA,899.995\\nPilot whale,Globicephalus,carni,Cetacea,cd,2.7,0.1,NA,21.35,NA,800\\nGray seal,Haliochoerus,carni,Carnivora,lc,6.2,1.5,NA,17.8,0.325,85\\nGray hyrax,Heterohyrax,herbi,Hyracoidea,lc,6.3,0.6,NA,17.7,0.01227,2.625\\nHuman,Homo,omni,Primates,NA,8,1.9,1.5,16,1.32,62\\nMongoose lemur,Lemur,herbi,Primates,vu,9.5,0.9,NA,14.5,NA,1.67\\nAfrican elephant,Loxodonta,herbi,Proboscidea,vu,3.3,NA,NA,20.7,5.712,6654\\nThick-tailed opposum,Lutreolina,carni,Didelphimorphia,lc,19.4,6.6,NA,4.6,NA,0.37\\nMacaque,Macaca,omni,Primates,NA,10.1,1.2,0.75,13.9,0.179,6.8\\nMongolian gerbil,Meriones,herbi,Rodentia,lc,14.2,1.9,NA,9.8,NA,0.053\\nGolden hamster,Mesocricetus,herbi,Rodentia,en,14.3,3.1,0.2,9.7,0.001,0.12\\nVole ,Microtus,herbi,Rodentia,NA,12.8,NA,NA,11.2,NA,0.035\\nHouse mouse,Mus,herbi,Rodentia,nt,12.5,1.4,0.183333333,11.5,4e-04,0.022\\nLittle brown bat,Myotis,insecti,Chiroptera,NA,19.9,2,0.2,4.1,0.00025,0.01\\nRound-tailed muskrat,Neofiber,herbi,Rodentia,nt,14.6,NA,NA,9.4,NA,0.266\\nSlow loris,Nyctibeus,carni,Primates,NA,11,NA,NA,13,0.0125,1.4\\nDegu,Octodon,herbi,Rodentia,lc,7.7,0.9,NA,16.3,NA,0.21\\nNorthern grasshopper mouse,Onychomys,carni,Rodentia,lc,14.5,NA,NA,9.5,NA,0.028\\nRabbit,Oryctolagus,herbi,Lagomorpha,domesticated,8.4,0.9,0.416666667,15.6,0.0121,2.5\\nSheep,Ovis,herbi,Artiodactyla,domesticated,3.8,0.6,NA,20.2,0.175,55.5\\nChimpanzee,Pan,omni,Primates,NA,9.7,1.4,1.416666667,14.3,0.44,52.2\\nTiger,Panthera,carni,Carnivora,en,15.8,NA,NA,8.2,NA,162.564\\nJaguar,Panthera,carni,Carnivora,nt,10.4,NA,NA,13.6,0.157,100\\nLion,Panthera,carni,Carnivora,vu,13.5,NA,NA,10.5,NA,161.499\\nBaboon,Papio,omni,Primates,NA,9.4,1,0.666666667,14.6,0.18,25.235\\nDesert hedgehog,Paraechinus,NA,Erinaceomorpha,lc,10.3,2.7,NA,13.7,0.0024,0.55\\nPotto,Perodicticus,omni,Primates,lc,11,NA,NA,13,NA,1.1\\nDeer mouse,Peromyscus,NA,Rodentia,NA,11.5,NA,NA,12.5,NA,0.021\\nPhalanger,Phalanger,NA,Diprotodontia,NA,13.7,1.8,NA,10.3,0.0114,1.62\\nCaspian seal,Phoca,carni,Carnivora,vu,3.5,0.4,NA,20.5,NA,86\\nCommon porpoise,Phocoena,carni,Cetacea,vu,5.6,NA,NA,18.45,NA,53.18\\nPotoroo,Potorous,herbi,Diprotodontia,NA,11.1,1.5,NA,12.9,NA,1.1\\nGiant armadillo,Priodontes,insecti,Cingulata,en,18.1,6.1,NA,5.9,0.081,60\\nRock hyrax,Procavia,NA,Hyracoidea,lc,5.4,0.5,NA,18.6,0.021,3.6\\nLaboratory rat,Rattus,herbi,Rodentia,lc,13,2.4,0.183333333,11,0.0019,0.32\\nAfrican striped mouse,Rhabdomys,omni,Rodentia,NA,8.7,NA,NA,15.3,NA,0.044\\nSquirrel monkey,Saimiri,omni,Primates,NA,9.6,1.4,NA,14.4,0.02,0.743\\nEastern american mole,Scalopus,insecti,Soricomorpha,lc,8.4,2.1,0.166666667,15.6,0.0012,0.075\\nCotton rat,Sigmodon,herbi,Rodentia,NA,11.3,1.1,0.15,12.7,0.00118,0.148\\nMole rat,Spalax,NA,Rodentia,NA,10.6,2.4,NA,13.4,0.003,0.122\\nArctic ground squirrel,Spermophilus,herbi,Rodentia,lc,16.6,NA,NA,7.4,0.0057,0.92\\nThirteen-lined ground squirrel,Spermophilus,herbi,Rodentia,lc,13.8,3.4,0.216666667,10.2,0.004,0.101\\nGolden-mantled ground squirrel,Spermophilus,herbi,Rodentia,lc,15.9,3,NA,8.1,NA,0.205\\nMusk shrew,Suncus,NA,Soricomorpha,NA,12.8,2,0.183333333,11.2,0.00033,0.048\\nPig,Sus,omni,Artiodactyla,domesticated,9.1,2.4,0.5,14.9,0.18,86.25\\nShort-nosed echidna,Tachyglossus,insecti,Monotremata,NA,8.6,NA,NA,15.4,0.025,4.5\\nEastern american chipmunk,Tamias,herbi,Rodentia,NA,15.8,NA,NA,8.2,NA,0.112\\nBrazilian tapir,Tapirus,herbi,Perissodactyla,vu,4.4,1,0.9,19.6,0.169,207.501\\nTenrec,Tenrec,omni,Afrosoricida,NA,15.6,2.3,NA,8.4,0.0026,0.9\\nTree shrew,Tupaia,omni,Scandentia,NA,8.9,2.6,0.233333333,15.1,0.0025,0.104\\nBottle-nosed dolphin,Tursiops,carni,Cetacea,NA,5.2,NA,NA,18.8,NA,173.33\\nGenet,Genetta,carni,Carnivora,NA,6.3,1.3,NA,17.7,0.0175,2\\nArctic fox,Vulpes,carni,Carnivora,NA,12.5,NA,NA,11.5,0.0445,3.38\\nRed fox,Vulpes,carni,Carnivora,NA,9.8,2.4,0.35,14.2,0.0504,4.23\\n'"
      ]
     },
     "execution_count": 7,
     "metadata": {},
     "output_type": "execute_result"
    }
   ],
   "source": [
    "respData2"
   ]
  },
  {
   "cell_type": "code",
   "execution_count": null,
   "metadata": {},
   "outputs": [],
   "source": []
  }
 ],
 "metadata": {
  "kernelspec": {
   "display_name": "Python 3",
   "language": "python",
   "name": "python3"
  },
  "language_info": {
   "codemirror_mode": {
    "name": "ipython",
    "version": 3
   },
   "file_extension": ".py",
   "mimetype": "text/x-python",
   "name": "python",
   "nbconvert_exporter": "python",
   "pygments_lexer": "ipython3",
   "version": "3.7.6"
  }
 },
 "nbformat": 4,
 "nbformat_minor": 4
}
